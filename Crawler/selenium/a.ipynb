{
 "cells": [
  {
   "cell_type": "code",
   "execution_count": 2,
   "metadata": {},
   "outputs": [],
   "source": [
    "from selenium import webdriver\n",
    "from selenium.webdriver.chrome.options import Options\n",
    "import time\n",
    "\n",
    "chrome_options = Options()\n",
    "chrome_options.add_argument(\"--incognito\")\n",
    "chrome_options.add_argument(\"--window-size=1920x1080\")\n",
    "driver = webdriver.Chrome()\n",
    "\n",
    "url = \"https://tiki.vn/deal-hot\"\n",
    "driver.get(url)"
   ]
  },
  {
   "cell_type": "code",
   "execution_count": 3,
   "metadata": {},
   "outputs": [
    {
     "data": {
      "text/plain": [
       "['409.000 ₫',\n",
       " '3.390.000 ₫',\n",
       " '18.990.000 ₫',\n",
       " '100.000 ₫',\n",
       " '390.000 ₫',\n",
       " '',\n",
       " '480.000 ₫',\n",
       " '399.000 ₫',\n",
       " '1.499.000 ₫',\n",
       " '6.999.000 ₫',\n",
       " '',\n",
       " '5.399.000 ₫',\n",
       " '1.159.000 ₫',\n",
       " '615.000 ₫',\n",
       " '269.000 ₫',\n",
       " '6.300.000 ₫',\n",
       " '',\n",
       " '359.000 ₫',\n",
       " '275.000 ₫',\n",
       " '398.000 ₫',\n",
       " '195.000 ₫',\n",
       " '189.000 ₫',\n",
       " '']"
      ]
     },
     "execution_count": 3,
     "metadata": {},
     "output_type": "execute_result"
    }
   ],
   "source": [
    "elements = driver.find_elements_by_css_selector(\".styles__ProductTitle-sc-6jfdyd-2\")\n",
    "product = [el.text for el in elements]\n",
    "elements = driver.find_elements_by_css_selector('.styles__OriginalPrice-sc-6jfdyd-4')\n",
    "sale = [el.text for el in elements]\n",
    "elements = driver.find_elements_by_css_selector(\".styles__DiscountedPrice-sc-6jfdyd-3\")\n",
    "price = [el.text for el in elements]\n",
    "sale"
   ]
  },
  {
   "cell_type": "code",
   "execution_count": 9,
   "metadata": {},
   "outputs": [
    {
     "data": {
      "text/plain": [
       "{'Sản phẩm': ['Chảo chiên chống dính đáy từ Tefal So Chef G1358496 24cm sâu lòng (Đỏ) - Công nghệ cảnh báo nhiệt thông minh - Hàng chính hãng',\n",
       "  'Tai Nghe Bluetooth Nhét Tai Apple AirPods 2 True Wireless - Hàng Chính Hãng VN/A',\n",
       "  'Laptop Dell Vostro 3405 V4R53500U003W(Ryzen 5-3500U/8GB/512GB PCIE/14.0 FHD/WIN 10/ĐEN) - Hàng Chính Hãng',\n",
       "  'Đồng Hồ nam điện tử KASAWI N5599 đồng hồ điện tử nam mặt vuông thời trang đầy đủ chức năng dây nhựa silicon',\n",
       "  'Thùng Bia Tiger 24 Lon (330ml / Lon)',\n",
       "  '',\n",
       "  'Bình Giữ Nhiệt Lock&Lock Energetic One-Touch Tumbler LHC3249 - 550ML',\n",
       "  'Giày patin cho trẻ - Giày trượt patin trẻ em - Giày patin cho bé- Thể thao ngoài trời, hoạt động ngoài trời - Dành cho trẻ từ 3-15 tuổi - [ Loại 8 bánh có đèn phát sáng ]',\n",
       "  'Thực Phẩm Bảo Vệ Sức Khỏe Giúp Da Sáng Đẹp Và Dạ Dày Khỏe Blossomy Hộp 10 chai x 50ml',\n",
       "  'Bộ chảo Tefal G134S295 Cook Healthy Chảo 24cm và Chảo xào 28cm - hàng chính hãng',\n",
       "  'Nồi Chiên Không Dầu Philips HD9745 (1500W) - Hàng Chính Hãng',\n",
       "  '',\n",
       "  'Nồi chiên không dầu Tefal 4.2 Lít - Vỏ thép - EY401D15 - Hàng chính hãng',\n",
       "  'Combo Chảo chiên Tefal Day By Day G1430405 24cm & Nồi cán dài/ quánh G1432305 18cm & Chảo chiên sâu lồng G1436405 24cm - Dùng mọi loại bếp - Chấm đỏ báo nhiệt thông minh - Hàng chính hãng',\n",
       "  'Tã quần Bobby Mega Jumbo L104 - Lõi nén thần kì 3mm - Siêu mỏng khô thoáng bất ngờ',\n",
       "  '20 Năm Lịch Sử Thị Trường Chứng Khoán Việt Nam (Bìa Cứng)',\n",
       "  'Nồi Chiên Không Dầu Kết Hợp Chức Năng Hấp Lock&Lock EJF881 7L - Hàng Chính Hãng',\n",
       "  '',\n",
       "  'Chuột Gaming Logitech G102 Gen 2 Lightsync - Hàng Chính Hãng',\n",
       "  'Sữa chống nắng bảo vệ hoàn hảo Anessa Perfect UV Sunscreen Skincare Milk - SPF 50+, PA++++ - 20ml',\n",
       "  'Bộ Đôi TSUBAKI Phục Hồi Ngăn Rụng Tóc (490ml/chai)',\n",
       "  'Chảo Chống Dính Đá Sunhouse SBD18',\n",
       "  'Nước tẩy trang Loreal Micellar Water 3-in-1 Refreshing Even For Sensitive Skin',\n",
       "  ''],\n",
       " 'Giá': ['327.000 ₫',\n",
       "  '3.190.000 ₫',\n",
       "  '16.490.000 ₫',\n",
       "  '22.000 ₫',\n",
       "  '335.000 ₫',\n",
       "  '',\n",
       "  '229.000 ₫',\n",
       "  '373.000 ₫',\n",
       "  '399.000 ₫',\n",
       "  '779.000 ₫',\n",
       "  '4.459.000 ₫',\n",
       "  '',\n",
       "  '2.694.000 ₫',\n",
       "  '694.000 ₫',\n",
       "  '409.000 ₫',\n",
       "  '206.000 ₫',\n",
       "  '3.780.000 ₫',\n",
       "  '',\n",
       "  '335.000 ₫',\n",
       "  '189.000 ₫',\n",
       "  '269.000 ₫',\n",
       "  '129.000 ₫',\n",
       "  '125.000 ₫',\n",
       "  '']}"
      ]
     },
     "execution_count": 9,
     "metadata": {},
     "output_type": "execute_result"
    }
   ],
   "source": [
    "item = {\"Sản phẩm\": product, 'Giá': price, 'Gốc':sale}\n",
    "item"
   ]
  },
  {
   "cell_type": "code",
   "execution_count": 10,
   "metadata": {},
   "outputs": [
    {
     "name": "stdout",
     "output_type": "stream",
     "text": [
      "                                            Sản phẩm           Giá\n",
      "0  Chảo chiên chống dính đáy từ Tefal So Chef G13...     327.000 ₫\n",
      "1  Tai Nghe Bluetooth Nhét Tai Apple AirPods 2 Tr...   3.190.000 ₫\n",
      "2  Laptop Dell Vostro 3405 V4R53500U003W(Ryzen 5-...  16.490.000 ₫\n",
      "3  Đồng Hồ nam điện tử KASAWI N5599 đồng hồ điện ...      22.000 ₫\n",
      "4               Thùng Bia Tiger 24 Lon (330ml / Lon)     335.000 ₫\n"
     ]
    }
   ],
   "source": [
    "import pandas as pd\n",
    "\n",
    "a = pd.DataFrame.from_dict(item)\n",
    "print(a.head())"
   ]
  }
 ],
 "metadata": {
  "interpreter": {
   "hash": "8b03d4cd05d71d535371b426da57de743181e37d8974a9636efe6e78873daaed"
  },
  "kernelspec": {
   "display_name": "Python 3.9.7 64-bit",
   "name": "python3"
  },
  "language_info": {
   "codemirror_mode": {
    "name": "ipython",
    "version": 3
   },
   "file_extension": ".py",
   "mimetype": "text/x-python",
   "name": "python",
   "nbconvert_exporter": "python",
   "pygments_lexer": "ipython3",
   "version": "3.9.7"
  },
  "orig_nbformat": 4
 },
 "nbformat": 4,
 "nbformat_minor": 2
}
